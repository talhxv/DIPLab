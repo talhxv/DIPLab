{
 "cells": [
  {
   "cell_type": "code",
   "execution_count": 4,
   "id": "initial_id",
   "metadata": {
    "collapsed": true,
    "ExecuteTime": {
     "end_time": "2024-09-12T08:09:31.920504Z",
     "start_time": "2024-09-12T08:09:31.916090Z"
    }
   },
   "outputs": [
    {
     "name": "stdout",
     "output_type": "stream",
     "text": [
      "hello world\n"
     ]
    }
   ],
   "source": [
    "print (\"hello world\")"
   ]
  },
  {
   "cell_type": "markdown",
   "source": [
    "Driver Code given in question"
   ],
   "metadata": {
    "collapsed": false
   },
   "id": "f97fbb53e82996f3"
  },
  {
   "cell_type": "code",
   "outputs": [
    {
     "name": "stdout",
     "output_type": "stream",
     "text": [
      "[2, 6, 7]\n",
      "[7, 9, 10]\n",
      "[8, 10, 10]\n"
     ]
    }
   ],
   "source": [
    "arr1 = [[1,2,3], [3,4,5], [4,5,5]]\n",
    "arr2 = [[1,4,4], [4,5,5], [4,5,5]]\n",
    "\n",
    "sum = [[arr1[i][j] + arr2[i][j] for j in range (len(arr1[0]))] for i in range(len(arr1))]\n",
    "\n",
    "for result in sum:\n",
    "    print (result)"
   ],
   "metadata": {
    "collapsed": false,
    "ExecuteTime": {
     "end_time": "2024-09-12T08:09:29.523393Z",
     "start_time": "2024-09-12T08:09:29.517351Z"
    }
   },
   "id": "6e95a24e92a34928",
   "execution_count": 3
  },
  {
   "cell_type": "code",
   "outputs": [
    {
     "name": "stdout",
     "output_type": "stream",
     "text": [
      "[0, -2, -1]\n",
      "[-1, -1, 0]\n",
      "[0, 0, 0]\n"
     ]
    }
   ],
   "source": [
    "arr1 = [[1,2,3], [3,4,5], [4,5,5]]\n",
    "arr2 = [[1,4,4], [4,5,5], [4,5,5]]\n",
    "\n",
    "sum = [[arr1[i][j] - arr2[i][j] for j in range (len(arr1[0]))] for i in range(len(arr1))]\n",
    "\n",
    "for result in sum:\n",
    "    print (result)"
   ],
   "metadata": {
    "collapsed": false,
    "ExecuteTime": {
     "end_time": "2024-09-12T08:09:28.189001Z",
     "start_time": "2024-09-12T08:09:28.183806Z"
    }
   },
   "id": "c6b178c209abef22",
   "execution_count": 2
  },
  {
   "cell_type": "markdown",
   "source": [],
   "metadata": {
    "collapsed": false
   },
   "id": "1579c511339525cc"
  }
 ],
 "metadata": {
  "kernelspec": {
   "display_name": "Python 3",
   "language": "python",
   "name": "python3"
  },
  "language_info": {
   "codemirror_mode": {
    "name": "ipython",
    "version": 2
   },
   "file_extension": ".py",
   "mimetype": "text/x-python",
   "name": "python",
   "nbconvert_exporter": "python",
   "pygments_lexer": "ipython2",
   "version": "2.7.6"
  }
 },
 "nbformat": 4,
 "nbformat_minor": 5
}
