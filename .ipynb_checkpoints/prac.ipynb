{
 "cells": [
  {
   "cell_type": "code",
   "execution_count": 1,
   "id": "initial_id",
   "metadata": {
    "collapsed": true,
    "ExecuteTime": {
     "end_time": "2024-09-16T19:39:21.199964Z",
     "start_time": "2024-09-16T19:39:21.173322Z"
    }
   },
   "outputs": [
    {
     "name": "stdout",
     "output_type": "stream",
     "text": [
      "hello\n"
     ]
    }
   ],
   "source": [
    "var = \"hello\"\n",
    "print (var);"
   ]
  },
  {
   "cell_type": "code",
   "outputs": [
    {
     "name": "stdout",
     "output_type": "stream",
     "text": [
      "apple tastes better than banana\n"
     ]
    }
   ],
   "source": [
    "fruit = 'apple'\n",
    "vegetable = 'banana'\n",
    "final = '{} tastes better than {}'.format(fruit, vegetable)\n",
    "print (final)"
   ],
   "metadata": {
    "collapsed": false,
    "ExecuteTime": {
     "end_time": "2024-09-16T19:41:24.109333Z",
     "start_time": "2024-09-16T19:41:24.104899Z"
    }
   },
   "id": "201a1fd4b93db5f7",
   "execution_count": 5
  },
  {
   "cell_type": "code",
   "outputs": [
    {
     "name": "stdout",
     "output_type": "stream",
     "text": [
      "keerthan\n"
     ]
    }
   ],
   "source": [
    "name = \"keer than\"\n",
    "print(name.replace(' ', '')) "
   ],
   "metadata": {
    "collapsed": false,
    "ExecuteTime": {
     "end_time": "2024-09-16T19:42:32.131762Z",
     "start_time": "2024-09-16T19:42:32.128168Z"
    }
   },
   "id": "9f06ad74bdb6e273",
   "execution_count": 10
  },
  {
   "cell_type": "code",
   "outputs": [
    {
     "name": "stdout",
     "output_type": "stream",
     "text": [
      "pomapo\n"
     ]
    }
   ],
   "source": [
    "name = \"tomato\"\n",
    "print (name.replace('t', 'p'));"
   ],
   "metadata": {
    "collapsed": false,
    "ExecuteTime": {
     "end_time": "2024-09-16T19:43:57.254375Z",
     "start_time": "2024-09-16T19:43:57.250645Z"
    }
   },
   "id": "e13fb1ad64c2987a",
   "execution_count": 11
  },
  {
   "cell_type": "code",
   "outputs": [],
   "source": [
    "name = \"talha\"\n",
    "name = list(name);"
   ],
   "metadata": {
    "collapsed": false,
    "ExecuteTime": {
     "end_time": "2024-09-16T19:44:34.044679Z",
     "start_time": "2024-09-16T19:44:34.038778Z"
    }
   },
   "id": "979db2e67287c7b",
   "execution_count": 12
  },
  {
   "cell_type": "code",
   "outputs": [
    {
     "name": "stdout",
     "output_type": "stream",
     "text": [
      "['t', 'a', 'l', 'h', 'a']\n"
     ]
    }
   ],
   "source": [
    "print (name)"
   ],
   "metadata": {
    "collapsed": false,
    "ExecuteTime": {
     "end_time": "2024-09-16T19:44:36.880481Z",
     "start_time": "2024-09-16T19:44:36.874916Z"
    }
   },
   "id": "7c7bcb2563de987c",
   "execution_count": 13
  },
  {
   "cell_type": "code",
   "outputs": [
    {
     "data": {
      "text/plain": "['t', 'a', 'l']"
     },
     "execution_count": 14,
     "metadata": {},
     "output_type": "execute_result"
    }
   ],
   "source": [
    "name[0:3]"
   ],
   "metadata": {
    "collapsed": false,
    "ExecuteTime": {
     "end_time": "2024-09-16T19:45:30.139982Z",
     "start_time": "2024-09-16T19:45:30.123958Z"
    }
   },
   "id": "fdd3c6cd8fee0d90",
   "execution_count": 14
  },
  {
   "cell_type": "code",
   "outputs": [
    {
     "data": {
      "text/plain": "['t', 'a', 'l', 'h', 'a']"
     },
     "execution_count": 15,
     "metadata": {},
     "output_type": "execute_result"
    }
   ],
   "source": [
    "name[0:5]"
   ],
   "metadata": {
    "collapsed": false,
    "ExecuteTime": {
     "end_time": "2024-09-16T19:45:38.919019Z",
     "start_time": "2024-09-16T19:45:38.914651Z"
    }
   },
   "id": "8360641c31a59460",
   "execution_count": 15
  },
  {
   "cell_type": "code",
   "outputs": [
    {
     "name": "stdout",
     "output_type": "stream",
     "text": [
      "['t', 'a', 'l', 'h', 'a', ' aslam']\n"
     ]
    }
   ],
   "source": [
    "name.append(' aslam');\n",
    "print(name)"
   ],
   "metadata": {
    "collapsed": false,
    "ExecuteTime": {
     "end_time": "2024-09-16T19:46:17.093525Z",
     "start_time": "2024-09-16T19:46:17.088075Z"
    }
   },
   "id": "be8b4fd7352fd634",
   "execution_count": 16
  },
  {
   "cell_type": "code",
   "outputs": [
    {
     "data": {
      "text/plain": "['t', 'a', 'l', 'h', 'a', ' aslam']"
     },
     "execution_count": 17,
     "metadata": {},
     "output_type": "execute_result"
    }
   ],
   "source": [
    "name"
   ],
   "metadata": {
    "collapsed": false,
    "ExecuteTime": {
     "end_time": "2024-09-16T19:46:27.551911Z",
     "start_time": "2024-09-16T19:46:27.545731Z"
    }
   },
   "id": "328baa9bfdffc8f5",
   "execution_count": 17
  },
  {
   "cell_type": "code",
   "outputs": [
    {
     "name": "stdout",
     "output_type": "stream",
     "text": [
      "talha aslam\n"
     ]
    }
   ],
   "source": [
    "string = \"talha\"\n",
    "string2 = string + ' aslam'\n",
    "print (string2)"
   ],
   "metadata": {
    "collapsed": false,
    "ExecuteTime": {
     "end_time": "2024-09-16T19:47:43.794967Z",
     "start_time": "2024-09-16T19:47:43.790794Z"
    }
   },
   "id": "79e18a63ce252766",
   "execution_count": 22
  },
  {
   "cell_type": "code",
   "outputs": [
    {
     "name": "stdout",
     "output_type": "stream",
     "text": [
      "['t', 'a', 'l', 'h', 'a', ' aslam']\n"
     ]
    }
   ],
   "source": [
    "# append adds elements to the list \n",
    "print(name)"
   ],
   "metadata": {
    "collapsed": false,
    "ExecuteTime": {
     "end_time": "2024-09-16T19:49:12.752252Z",
     "start_time": "2024-09-16T19:49:12.748797Z"
    }
   },
   "id": "e44fe073f26d6388",
   "execution_count": 23
  },
  {
   "cell_type": "code",
   "outputs": [
    {
     "data": {
      "text/plain": "' aslam'"
     },
     "execution_count": 24,
     "metadata": {},
     "output_type": "execute_result"
    }
   ],
   "source": [
    "name.pop(-1)"
   ],
   "metadata": {
    "collapsed": false,
    "ExecuteTime": {
     "end_time": "2024-09-16T19:49:21.126930Z",
     "start_time": "2024-09-16T19:49:21.119908Z"
    }
   },
   "id": "d7bc0072cef8ad93",
   "execution_count": 24
  },
  {
   "cell_type": "code",
   "outputs": [
    {
     "name": "stdout",
     "output_type": "stream",
     "text": [
      "['t', 'a', 'l', 'h', 'a']\n"
     ]
    }
   ],
   "source": [
    "print(name)"
   ],
   "metadata": {
    "collapsed": false,
    "ExecuteTime": {
     "end_time": "2024-09-16T19:49:28.086344Z",
     "start_time": "2024-09-16T19:49:28.082966Z"
    }
   },
   "id": "4f3689e2c97111b5",
   "execution_count": 25
  },
  {
   "cell_type": "code",
   "outputs": [
    {
     "ename": "AttributeError",
     "evalue": "'list' object has no attribute 'inert'",
     "output_type": "error",
     "traceback": [
      "\u001B[1;31m---------------------------------------------------------------------------\u001B[0m",
      "\u001B[1;31mAttributeError\u001B[0m                            Traceback (most recent call last)",
      "Cell \u001B[1;32mIn[26], line 1\u001B[0m\n\u001B[1;32m----> 1\u001B[0m \u001B[43mname\u001B[49m\u001B[38;5;241;43m.\u001B[39;49m\u001B[43minert\u001B[49m(\u001B[38;5;124m'\u001B[39m\u001B[38;5;124m aslam\u001B[39m\u001B[38;5;124m'\u001B[39m)\n",
      "\u001B[1;31mAttributeError\u001B[0m: 'list' object has no attribute 'inert'"
     ]
    }
   ],
   "source": [
    "name.inert(' aslam')"
   ],
   "metadata": {
    "collapsed": false,
    "ExecuteTime": {
     "end_time": "2024-09-16T19:49:37.995460Z",
     "start_time": "2024-09-16T19:49:37.979043Z"
    }
   },
   "id": "b0afef2395f78642",
   "execution_count": 26
  },
  {
   "cell_type": "code",
   "outputs": [
    {
     "ename": "TypeError",
     "evalue": "insert expected 2 arguments, got 1",
     "output_type": "error",
     "traceback": [
      "\u001B[1;31m---------------------------------------------------------------------------\u001B[0m",
      "\u001B[1;31mTypeError\u001B[0m                                 Traceback (most recent call last)",
      "Cell \u001B[1;32mIn[27], line 1\u001B[0m\n\u001B[1;32m----> 1\u001B[0m \u001B[43mname\u001B[49m\u001B[38;5;241;43m.\u001B[39;49m\u001B[43minsert\u001B[49m\u001B[43m(\u001B[49m\u001B[38;5;124;43m'\u001B[39;49m\u001B[38;5;124;43m aslam\u001B[39;49m\u001B[38;5;124;43m'\u001B[39;49m\u001B[43m)\u001B[49m\n\u001B[0;32m      2\u001B[0m \u001B[38;5;28mprint\u001B[39m (name)\n",
      "\u001B[1;31mTypeError\u001B[0m: insert expected 2 arguments, got 1"
     ]
    }
   ],
   "source": [
    "name.insert(' aslam')\n",
    "print (name)"
   ],
   "metadata": {
    "collapsed": false,
    "ExecuteTime": {
     "end_time": "2024-09-16T19:49:51.423894Z",
     "start_time": "2024-09-16T19:49:51.409045Z"
    }
   },
   "id": "f6612a6a9c4368e8",
   "execution_count": 27
  },
  {
   "cell_type": "code",
   "outputs": [
    {
     "data": {
      "text/plain": "'a'"
     },
     "execution_count": 28,
     "metadata": {},
     "output_type": "execute_result"
    }
   ],
   "source": [
    "name.pop()"
   ],
   "metadata": {
    "collapsed": false,
    "ExecuteTime": {
     "end_time": "2024-09-16T19:50:33.894609Z",
     "start_time": "2024-09-16T19:50:33.888983Z"
    }
   },
   "id": "aab3b37ebfce78a5",
   "execution_count": 28
  },
  {
   "cell_type": "code",
   "outputs": [
    {
     "name": "stdout",
     "output_type": "stream",
     "text": [
      "['t', 'a', 'l', 'h']\n"
     ]
    }
   ],
   "source": [
    "print(name)"
   ],
   "metadata": {
    "collapsed": false,
    "ExecuteTime": {
     "end_time": "2024-09-16T19:50:41.282172Z",
     "start_time": "2024-09-16T19:50:41.278700Z"
    }
   },
   "id": "4afe64be62b58dd4",
   "execution_count": 29
  },
  {
   "cell_type": "code",
   "outputs": [
    {
     "data": {
      "text/plain": "'a'"
     },
     "execution_count": 30,
     "metadata": {},
     "output_type": "execute_result"
    }
   ],
   "source": [
    "name.pop(1)"
   ],
   "metadata": {
    "collapsed": false,
    "ExecuteTime": {
     "end_time": "2024-09-16T19:50:45.526570Z",
     "start_time": "2024-09-16T19:50:45.522062Z"
    }
   },
   "id": "38b7257759178e3",
   "execution_count": 30
  },
  {
   "cell_type": "code",
   "outputs": [
    {
     "data": {
      "text/plain": "'t'"
     },
     "execution_count": 31,
     "metadata": {},
     "output_type": "execute_result"
    }
   ],
   "source": [
    "name.pop(0)"
   ],
   "metadata": {
    "collapsed": false,
    "ExecuteTime": {
     "end_time": "2024-09-16T19:50:55.232555Z",
     "start_time": "2024-09-16T19:50:55.228134Z"
    }
   },
   "id": "89ecf63e568fc540",
   "execution_count": 31
  },
  {
   "cell_type": "code",
   "outputs": [
    {
     "name": "stdout",
     "output_type": "stream",
     "text": [
      "['l', 'h']\n"
     ]
    }
   ],
   "source": [
    "print(name)"
   ],
   "metadata": {
    "collapsed": false,
    "ExecuteTime": {
     "end_time": "2024-09-16T19:50:59.405323Z",
     "start_time": "2024-09-16T19:50:59.401240Z"
    }
   },
   "id": "dc8c86d616c6ffbb",
   "execution_count": 32
  },
  {
   "cell_type": "code",
   "outputs": [
    {
     "data": {
      "text/plain": "'h'"
     },
     "execution_count": 33,
     "metadata": {},
     "output_type": "execute_result"
    }
   ],
   "source": [
    "name.pop(1)"
   ],
   "metadata": {
    "collapsed": false,
    "ExecuteTime": {
     "end_time": "2024-09-16T19:51:08.666314Z",
     "start_time": "2024-09-16T19:51:08.661807Z"
    }
   },
   "id": "19e63984dae70afc",
   "execution_count": 33
  },
  {
   "cell_type": "code",
   "outputs": [
    {
     "name": "stdout",
     "output_type": "stream",
     "text": [
      "['l']\n"
     ]
    }
   ],
   "source": [
    "print(name)"
   ],
   "metadata": {
    "collapsed": false,
    "ExecuteTime": {
     "end_time": "2024-09-16T19:51:11.721047Z",
     "start_time": "2024-09-16T19:51:11.717555Z"
    }
   },
   "id": "511b328adcc17946",
   "execution_count": 34
  },
  {
   "cell_type": "code",
   "outputs": [
    {
     "data": {
      "text/plain": "'l'"
     },
     "execution_count": 35,
     "metadata": {},
     "output_type": "execute_result"
    }
   ],
   "source": [
    "name.pop(-1)\n"
   ],
   "metadata": {
    "collapsed": false,
    "ExecuteTime": {
     "end_time": "2024-09-16T19:51:17.599479Z",
     "start_time": "2024-09-16T19:51:17.594847Z"
    }
   },
   "id": "2d924e71adeeb589",
   "execution_count": 35
  },
  {
   "cell_type": "code",
   "outputs": [
    {
     "name": "stdout",
     "output_type": "stream",
     "text": [
      "[]\n"
     ]
    }
   ],
   "source": [
    "print(name)"
   ],
   "metadata": {
    "collapsed": false,
    "ExecuteTime": {
     "end_time": "2024-09-16T19:51:22.187525Z",
     "start_time": "2024-09-16T19:51:22.183712Z"
    }
   },
   "id": "bff182f437222597",
   "execution_count": 36
  },
  {
   "cell_type": "code",
   "outputs": [
    {
     "ename": "TypeError",
     "evalue": "insert expected 2 arguments, got 1",
     "output_type": "error",
     "traceback": [
      "\u001B[1;31m---------------------------------------------------------------------------\u001B[0m",
      "\u001B[1;31mTypeError\u001B[0m                                 Traceback (most recent call last)",
      "Cell \u001B[1;32mIn[37], line 1\u001B[0m\n\u001B[1;32m----> 1\u001B[0m \u001B[43mname\u001B[49m\u001B[38;5;241;43m.\u001B[39;49m\u001B[43minsert\u001B[49m\u001B[43m(\u001B[49m\u001B[38;5;124;43m'\u001B[39;49m\u001B[38;5;124;43mt\u001B[39;49m\u001B[38;5;124;43m'\u001B[39;49m\u001B[43m)\u001B[49m\n",
      "\u001B[1;31mTypeError\u001B[0m: insert expected 2 arguments, got 1"
     ]
    }
   ],
   "source": [
    "name.insert('t')"
   ],
   "metadata": {
    "collapsed": false,
    "ExecuteTime": {
     "end_time": "2024-09-16T19:51:31.401295Z",
     "start_time": "2024-09-16T19:51:31.387481Z"
    }
   },
   "id": "7c9dfad1322bf9ee",
   "execution_count": 37
  },
  {
   "cell_type": "code",
   "outputs": [
    {
     "ename": "TypeError",
     "evalue": "'str' object cannot be interpreted as an integer",
     "output_type": "error",
     "traceback": [
      "\u001B[1;31m---------------------------------------------------------------------------\u001B[0m",
      "\u001B[1;31mTypeError\u001B[0m                                 Traceback (most recent call last)",
      "Cell \u001B[1;32mIn[38], line 1\u001B[0m\n\u001B[1;32m----> 1\u001B[0m \u001B[43mname\u001B[49m\u001B[38;5;241;43m.\u001B[39;49m\u001B[43minsert\u001B[49m\u001B[43m(\u001B[49m\u001B[38;5;124;43m'\u001B[39;49m\u001B[38;5;124;43mt\u001B[39;49m\u001B[38;5;124;43m'\u001B[39;49m\u001B[43m,\u001B[49m\u001B[43m \u001B[49m\u001B[38;5;124;43m'\u001B[39;49m\u001B[38;5;124;43mt\u001B[39;49m\u001B[38;5;124;43m'\u001B[39;49m\u001B[43m)\u001B[49m\n\u001B[0;32m      2\u001B[0m \u001B[38;5;28mprint\u001B[39m(name);\n",
      "\u001B[1;31mTypeError\u001B[0m: 'str' object cannot be interpreted as an integer"
     ]
    }
   ],
   "source": [
    "name.insert('t', 't')\n",
    "print(name);"
   ],
   "metadata": {
    "collapsed": false,
    "ExecuteTime": {
     "end_time": "2024-09-16T19:51:43.820588Z",
     "start_time": "2024-09-16T19:51:43.806646Z"
    }
   },
   "id": "74c9dbcd2a25f587",
   "execution_count": 38
  },
  {
   "cell_type": "code",
   "outputs": [],
   "source": [
    "name.insert(0, 't')\n"
   ],
   "metadata": {
    "collapsed": false,
    "ExecuteTime": {
     "end_time": "2024-09-16T19:51:58.091730Z",
     "start_time": "2024-09-16T19:51:58.088347Z"
    }
   },
   "id": "3402c1147e5ea673",
   "execution_count": 39
  },
  {
   "cell_type": "code",
   "outputs": [
    {
     "name": "stdout",
     "output_type": "stream",
     "text": [
      "['t']\n"
     ]
    }
   ],
   "source": [
    "print (name)"
   ],
   "metadata": {
    "collapsed": false,
    "ExecuteTime": {
     "end_time": "2024-09-16T19:52:00.834476Z",
     "start_time": "2024-09-16T19:52:00.830874Z"
    }
   },
   "id": "75a33c5dfc0d118f",
   "execution_count": 40
  },
  {
   "cell_type": "code",
   "outputs": [],
   "source": [
    "name.insert(4, 'a');"
   ],
   "metadata": {
    "collapsed": false,
    "ExecuteTime": {
     "end_time": "2024-09-16T19:52:12.229765Z",
     "start_time": "2024-09-16T19:52:12.224907Z"
    }
   },
   "id": "8a7f3ca83316d1a7",
   "execution_count": 41
  },
  {
   "cell_type": "code",
   "outputs": [
    {
     "name": "stdout",
     "output_type": "stream",
     "text": [
      "['t', 'a']\n"
     ]
    }
   ],
   "source": [
    "print(name)"
   ],
   "metadata": {
    "collapsed": false,
    "ExecuteTime": {
     "end_time": "2024-09-16T19:52:18.426440Z",
     "start_time": "2024-09-16T19:52:18.422275Z"
    }
   },
   "id": "2814c0b5c6df5d42",
   "execution_count": 42
  },
  {
   "cell_type": "code",
   "outputs": [
    {
     "name": "stdout",
     "output_type": "stream",
     "text": [
      "['t', 'a', 's']\n"
     ]
    }
   ],
   "source": [
    "name.insert(3, 's')\n",
    "print(name)\n"
   ],
   "metadata": {
    "collapsed": false,
    "ExecuteTime": {
     "end_time": "2024-09-16T19:52:34.949580Z",
     "start_time": "2024-09-16T19:52:34.946532Z"
    }
   },
   "id": "7f9bc4be37330f5c",
   "execution_count": 43
  },
  {
   "cell_type": "code",
   "outputs": [
    {
     "name": "stdout",
     "output_type": "stream",
     "text": [
      "None\n"
     ]
    }
   ],
   "source": [
    "print (name.reverse())"
   ],
   "metadata": {
    "collapsed": false,
    "ExecuteTime": {
     "end_time": "2024-09-16T19:52:59.740454Z",
     "start_time": "2024-09-16T19:52:59.736696Z"
    }
   },
   "id": "62058a0f4252b170",
   "execution_count": 44
  },
  {
   "cell_type": "code",
   "outputs": [],
   "source": [
    "name.reverse();"
   ],
   "metadata": {
    "collapsed": false,
    "ExecuteTime": {
     "end_time": "2024-09-16T19:53:09.634411Z",
     "start_time": "2024-09-16T19:53:09.631395Z"
    }
   },
   "id": "a5bee511f4085c3c",
   "execution_count": 45
  },
  {
   "cell_type": "code",
   "outputs": [
    {
     "name": "stdout",
     "output_type": "stream",
     "text": [
      "['t', 'a', 's']\n"
     ]
    }
   ],
   "source": [
    "print(name)"
   ],
   "metadata": {
    "collapsed": false,
    "ExecuteTime": {
     "end_time": "2024-09-16T19:53:12.457363Z",
     "start_time": "2024-09-16T19:53:12.453361Z"
    }
   },
   "id": "d234a868961a90ce",
   "execution_count": 46
  },
  {
   "cell_type": "code",
   "outputs": [],
   "source": [
    "name.reverse()\n"
   ],
   "metadata": {
    "collapsed": false,
    "ExecuteTime": {
     "end_time": "2024-09-16T19:54:03.979941Z",
     "start_time": "2024-09-16T19:54:03.977010Z"
    }
   },
   "id": "353ad1a72e918c3",
   "execution_count": 48
  },
  {
   "cell_type": "code",
   "outputs": [
    {
     "name": "stdout",
     "output_type": "stream",
     "text": [
      "['t', 'a', 's']\n"
     ]
    }
   ],
   "source": [
    "print(name)"
   ],
   "metadata": {
    "collapsed": false,
    "ExecuteTime": {
     "end_time": "2024-09-16T19:54:11.393724Z",
     "start_time": "2024-09-16T19:54:11.390086Z"
    }
   },
   "id": "c686e486e5f26f98",
   "execution_count": 49
  },
  {
   "cell_type": "code",
   "outputs": [],
   "source": [
    "name.reverse()\n"
   ],
   "metadata": {
    "collapsed": false,
    "ExecuteTime": {
     "end_time": "2024-09-16T19:54:30.888692Z",
     "start_time": "2024-09-16T19:54:30.885416Z"
    }
   },
   "id": "a60be67b2e030978",
   "execution_count": 51
  },
  {
   "cell_type": "code",
   "outputs": [
    {
     "name": "stdout",
     "output_type": "stream",
     "text": [
      "['s', 'a', 't']\n"
     ]
    }
   ],
   "source": [
    "print (name)"
   ],
   "metadata": {
    "collapsed": false,
    "ExecuteTime": {
     "end_time": "2024-09-16T19:54:33.223254Z",
     "start_time": "2024-09-16T19:54:33.219854Z"
    }
   },
   "id": "18ecf85a35902923",
   "execution_count": 52
  },
  {
   "cell_type": "code",
   "outputs": [
    {
     "name": "stdout",
     "output_type": "stream",
     "text": [
      "talha\n"
     ]
    }
   ],
   "source": [
    "str = \"talha\"\n",
    "str.split(',').reverse()\n",
    "print (str)"
   ],
   "metadata": {
    "collapsed": false,
    "ExecuteTime": {
     "end_time": "2024-09-16T19:55:52.916889Z",
     "start_time": "2024-09-16T19:55:52.912380Z"
    }
   },
   "id": "bc4df4400d6875d6",
   "execution_count": 55
  },
  {
   "cell_type": "code",
   "outputs": [
    {
     "name": "stdout",
     "output_type": "stream",
     "text": [
      "['a', 'b', 'b', 'a']\n",
      "['a', 'b', 'b', 'a']\n",
      "palindrome found\n"
     ]
    }
   ],
   "source": [
    "# checking to see if palindrome\n",
    "# abba = abba reversed\n",
    "\n",
    "first = 'abba'\n",
    "firstn = list(first)\n",
    "firstl = list(first)\n",
    "firstl.reverse()\n",
    "print(firstn)\n",
    "print(firstl)\n",
    "is_pal = True\n",
    "for x in range (0,len(firstn)):\n",
    "    if firstn[x]!=firstl[x]:\n",
    "        is_pal = False\n",
    "        break\n",
    "\n",
    "if (is_pal == False):\n",
    "    print(\"not palindrome\")\n",
    "else:\n",
    "    print(\"palindrome found\")\n"
   ],
   "metadata": {
    "collapsed": false,
    "ExecuteTime": {
     "end_time": "2024-09-16T20:18:20.628273Z",
     "start_time": "2024-09-16T20:18:20.622171Z"
    }
   },
   "id": "597bd478d92c761a",
   "execution_count": 115
  },
  {
   "cell_type": "code",
   "outputs": [
    {
     "name": "stdout",
     "output_type": "stream",
     "text": [
      "None\n"
     ]
    }
   ],
   "source": [
    "reve = first.reverse()\n",
    "print (reve)\n",
    "if (first == reve):\n",
    "    print(\"palindrome!\")"
   ],
   "metadata": {
    "collapsed": false,
    "ExecuteTime": {
     "end_time": "2024-09-16T20:00:46.811038Z",
     "start_time": "2024-09-16T20:00:46.807113Z"
    }
   },
   "id": "5055c2a87a6384c5",
   "execution_count": 60
  },
  {
   "cell_type": "code",
   "outputs": [],
   "source": [
    "    "
   ],
   "metadata": {
    "collapsed": false
   },
   "id": "f4254147fb5a9acb"
  }
 ],
 "metadata": {
  "kernelspec": {
   "display_name": "Python 3",
   "language": "python",
   "name": "python3"
  },
  "language_info": {
   "codemirror_mode": {
    "name": "ipython",
    "version": 2
   },
   "file_extension": ".py",
   "mimetype": "text/x-python",
   "name": "python",
   "nbconvert_exporter": "python",
   "pygments_lexer": "ipython2",
   "version": "2.7.6"
  }
 },
 "nbformat": 4,
 "nbformat_minor": 5
}
