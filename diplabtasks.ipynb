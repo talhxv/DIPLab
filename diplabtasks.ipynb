{
 "cells": [
  {
   "cell_type": "markdown",
   "source": [
    "Task 1"
   ],
   "metadata": {
    "collapsed": false
   },
   "id": "7450b77f1bf9d547"
  },
  {
   "cell_type": "code",
   "outputs": [
    {
     "name": "stdout",
     "output_type": "stream",
     "text": [
      "[2, 6, 7]\n",
      "[7, 9, 10]\n",
      "[8, 10, 10]\n"
     ]
    }
   ],
   "source": [
    "arr1 = [[1,2,3], [3,4,5], [4,5,5]]\n",
    "arr2 = [[1,4,4], [4,5,5], [4,5,5]]\n",
    "\n",
    "sum = [[arr1[i][j] + arr2[i][j] for j in range (len(arr1[0]))] for i in range(len(arr1))]\n",
    "\n",
    "for result in sum:\n",
    "    print (result)"
   ],
   "metadata": {
    "collapsed": false,
    "ExecuteTime": {
     "end_time": "2024-09-12T08:01:34.060365Z",
     "start_time": "2024-09-12T08:01:34.054690Z"
    }
   },
   "id": "8244736489e1b2ee",
   "execution_count": 5
  },
  {
   "cell_type": "code",
   "outputs": [
    {
     "name": "stdout",
     "output_type": "stream",
     "text": [
      "[0, -2, -1]\n",
      "[-1, -1, 0]\n",
      "[0, 0, 0]\n"
     ]
    }
   ],
   "source": [
    "arr1 = [[1,2,3], [3,4,5], [4,5,5]]\n",
    "arr2 = [[1,4,4], [4,5,5], [4,5,5]]\n",
    "\n",
    "sum = [[arr1[i][j] - arr2[i][j] for j in range (len(arr1[0]))] for i in range(len(arr1))]\n",
    "\n",
    "for result in sum:\n",
    "    print (result)"
   ],
   "metadata": {
    "collapsed": false,
    "ExecuteTime": {
     "end_time": "2024-09-12T08:01:42.875588Z",
     "start_time": "2024-09-12T08:01:42.869528Z"
    }
   },
   "id": "6582840f33448ec1",
   "execution_count": 6
  },
  {
   "cell_type": "code",
   "outputs": [],
   "source": [],
   "metadata": {
    "collapsed": false
   },
   "id": "6cb9a3fb84792d7b"
  }
 ],
 "metadata": {
  "kernelspec": {
   "display_name": "Python 3",
   "language": "python",
   "name": "python3"
  },
  "language_info": {
   "codemirror_mode": {
    "name": "ipython",
    "version": 2
   },
   "file_extension": ".py",
   "mimetype": "text/x-python",
   "name": "python",
   "nbconvert_exporter": "python",
   "pygments_lexer": "ipython2",
   "version": "2.7.6"
  }
 },
 "nbformat": 4,
 "nbformat_minor": 5
}
